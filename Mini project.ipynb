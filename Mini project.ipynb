{
 "cells": [
  {
   "cell_type": "markdown",
   "id": "3111b841",
   "metadata": {},
   "source": [
    "# Mini-project-3"
   ]
  },
  {
   "cell_type": "code",
   "execution_count": null,
   "id": "733bc869",
   "metadata": {},
   "outputs": [],
   "source": []
  }
 ],
 "metadata": {
  "kernelspec": {
   "display_name": "Python 3",
   "language": "python",
   "name": "python3"
  },
  "language_info": {
   "codemirror_mode": {
    "name": "ipython",
    "version": 3
   },
   "file_extension": ".py",
   "mimetype": "text/x-python",
   "name": "python",
   "nbconvert_exporter": "python",
   "pygments_lexer": "ipython3",
   "version": "3.9.6"
  }
 },
 "nbformat": 4,
 "nbformat_minor": 5
}
