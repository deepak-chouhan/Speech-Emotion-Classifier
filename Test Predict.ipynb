{
 "cells": [
  {
   "cell_type": "markdown",
   "id": "522d5acb",
   "metadata": {},
   "source": [
    "# Testing the prediction accuracy"
   ]
  },
  {
   "cell_type": "markdown",
   "id": "cfc45ebe",
   "metadata": {},
   "source": [
    "- **02 = calm**\n",
    "- **03 = happy**\n",
    "- **04 = sad**\n",
    "- **05 = angry**\n",
    "- **06 = fearful**"
   ]
  },
  {
   "cell_type": "code",
   "execution_count": 1,
   "id": "7c846c94",
   "metadata": {},
   "outputs": [
    {
     "name": "stdout",
     "output_type": "stream",
     "text": [
      "Populating the interactive namespace from numpy and matplotlib\n"
     ]
    }
   ],
   "source": [
    "import os\n",
    "\n",
    "import pandas as pd\n",
    "import numpy as np\n",
    "import matplotlib.pyplot as plt\n",
    "import tensorflow as tf\n",
    "%matplotlib inline\n",
    "%pylab inline\n",
    "\n",
    "import librosa\n",
    "import librosa.display\n",
    "from matplotlib.pyplot import specgram\n",
    "import keras\n",
    "from keras.preprocessing import sequence\n",
    "from keras.models import Sequential\n",
    "from keras.layers import Dense, Embedding\n",
    "from keras.layers import LSTM\n",
    "from keras.preprocessing.text import Tokenizer\n",
    "from keras.preprocessing.sequence import pad_sequences\n",
    "from keras.layers import Input, Flatten, Dropout, Activation\n",
    "from keras.layers import Conv1D, MaxPooling1D, AveragePooling1D\n",
    "from keras.models import Model\n",
    "from keras.callbacks import ModelCheckpoint\n",
    "from sklearn.metrics import confusion_matrix"
   ]
  },
  {
   "cell_type": "code",
   "execution_count": 2,
   "id": "270f05fb",
   "metadata": {},
   "outputs": [],
   "source": [
    "# importing labels of the files\n",
    "labels = os.listdir(\"Data/\")"
   ]
  },
  {
   "cell_type": "code",
   "execution_count": 3,
   "id": "1a30caea",
   "metadata": {},
   "outputs": [],
   "source": [
    "# Emotions\n",
    "emotions = np.array([label.split(\"-\")[2] for label in labels])"
   ]
  },
  {
   "cell_type": "code",
   "execution_count": 4,
   "id": "b843c153",
   "metadata": {},
   "outputs": [],
   "source": [
    "def extract_features(filename):\n",
    "    audio, sample_rate = librosa.load(filename, res_type=\"kaiser_fast\")\n",
    "    mfccs_features = librosa.feature.mfcc(y=audio, sr=sample_rate, n_mfcc=40)\n",
    "    mfccs_scaled_features = np.mean(mfccs_features.T,axis=0)\n",
    "    \n",
    "    return mfccs_scaled_features"
   ]
  },
  {
   "cell_type": "code",
   "execution_count": 5,
   "id": "f4a08d80",
   "metadata": {},
   "outputs": [],
   "source": [
    "features = []\n",
    "\n",
    "for label in labels:\n",
    "    filename = f\"Data/{label}\"\n",
    "    \n",
    "    emotion = label.split(\"-\")[2]\n",
    "    data = extract_features(filename)\n",
    "    features.append([data, emotion])"
   ]
  },
  {
   "cell_type": "code",
   "execution_count": 6,
   "id": "649d94af",
   "metadata": {},
   "outputs": [
    {
     "data": {
      "text/plain": [
       "[array([-6.66113403e+02,  5.62173576e+01, -7.56887484e+00,  1.57707405e+01,\n",
       "        -8.45027637e+00,  1.83744097e+00, -6.82167864e+00, -4.37701273e+00,\n",
       "        -5.91381168e+00,  5.17688990e-01, -5.59894037e+00, -2.13708138e+00,\n",
       "        -6.38166094e+00,  2.84868383e+00, -6.89996719e+00, -1.23033297e+00,\n",
       "        -4.16035271e+00, -1.37664831e+00, -4.97348595e+00, -1.35401809e+00,\n",
       "        -2.00252700e+00, -2.14882398e+00, -1.11055171e+00, -2.46265188e-01,\n",
       "        -1.22439280e-01,  4.77262735e-01,  4.27485657e+00,  4.82439423e+00,\n",
       "         7.54139376e+00,  4.93660450e+00,  3.66524744e+00,  3.25066614e+00,\n",
       "         2.14365625e+00,  3.23849964e+00,  2.43824267e+00,  2.52844048e+00,\n",
       "        -3.09295207e-01,  9.82488215e-01,  1.01983917e+00,  5.99840820e-01],\n",
       "       dtype=float32),\n",
       " '02']"
      ]
     },
     "execution_count": 6,
     "metadata": {},
     "output_type": "execute_result"
    }
   ],
   "source": [
    "features[1]"
   ]
  },
  {
   "cell_type": "code",
   "execution_count": 7,
   "id": "fd10189a",
   "metadata": {},
   "outputs": [],
   "source": [
    "features_df = pd.DataFrame(features, columns=[\"feature\", \"emotion\"])"
   ]
  },
  {
   "cell_type": "code",
   "execution_count": 8,
   "id": "6fe924cb",
   "metadata": {},
   "outputs": [],
   "source": [
    "X=np.array(features_df['feature'].tolist())\n",
    "y=np.array(features_df['emotion'].tolist())"
   ]
  },
  {
   "cell_type": "code",
   "execution_count": 9,
   "id": "d313bd87",
   "metadata": {},
   "outputs": [
    {
     "data": {
      "text/plain": [
       "((960, 40), (960,))"
      ]
     },
     "execution_count": 9,
     "metadata": {},
     "output_type": "execute_result"
    }
   ],
   "source": [
    "X.shape, y.shape"
   ]
  },
  {
   "cell_type": "code",
   "execution_count": 23,
   "id": "0ba4e33d",
   "metadata": {},
   "outputs": [
    {
     "data": {
      "text/plain": [
       "array(['02', '02', '02', '02', '02', '02', '02', '02', '02', '02', '02',\n",
       "       '02', '02', '02', '02', '02', '02', '02', '02', '02', '02', '02',\n",
       "       '02', '02', '02', '02', '02', '02', '02', '02', '02', '02', '02',\n",
       "       '02', '02', '02', '02', '02', '02', '02', '02', '02', '02', '02',\n",
       "       '02', '02', '02', '02', '02', '02', '02', '02', '02', '02', '02',\n",
       "       '02', '02', '02', '02', '02', '02', '02', '02', '02', '02', '02',\n",
       "       '02', '02', '02', '02', '02', '02', '02', '02', '02', '02', '02',\n",
       "       '02', '02', '02', '02', '02', '02', '02', '02', '02', '02', '02',\n",
       "       '02', '02', '02', '02', '02', '02', '02', '02', '02', '02', '02',\n",
       "       '02', '02', '02', '02', '02', '02', '02', '02', '02', '02', '02',\n",
       "       '02', '02', '02', '02', '02', '02', '02', '02', '02', '02', '02',\n",
       "       '02', '02', '02', '02', '02', '02', '02', '02', '02', '02', '02',\n",
       "       '02', '02', '02', '02', '02', '02', '02', '02', '02', '02', '02',\n",
       "       '02', '02', '02', '02', '02', '02', '02', '02', '02', '02', '02',\n",
       "       '02', '02', '02', '02', '02', '02', '02', '02', '02', '02', '02',\n",
       "       '02', '02', '02', '02', '02', '02', '02', '02', '02', '02', '02',\n",
       "       '02', '02', '02', '02', '02', '02', '02', '02', '02', '02', '02',\n",
       "       '02', '02', '02', '02', '02', '03', '03', '03', '03', '03', '03',\n",
       "       '03', '03', '03', '03', '03', '03', '03', '03', '03', '03', '03',\n",
       "       '03', '03', '03', '03', '03', '03', '03', '03', '03', '03', '03',\n",
       "       '03', '03', '03', '03', '03', '03', '03', '03', '03', '03', '03',\n",
       "       '03', '03', '03', '03', '03', '03', '03', '03', '03', '03', '03',\n",
       "       '03', '03', '03', '03', '03', '03', '03', '03', '03', '03', '03',\n",
       "       '03', '03', '03', '03', '03', '03', '03', '03', '03', '03', '03',\n",
       "       '03', '03', '03', '03', '03', '03', '03', '03', '03', '03', '03',\n",
       "       '03', '03', '03', '03', '03', '03', '03', '03', '03', '03', '03',\n",
       "       '03', '03', '03', '03', '03', '03', '03', '03', '03', '03', '03',\n",
       "       '03', '03', '03', '03', '03', '03', '03', '03', '03', '03', '03',\n",
       "       '03', '03', '03', '03', '03', '03', '03', '03', '03', '03', '03',\n",
       "       '03', '03', '03', '03', '03', '03', '03', '03', '03', '03', '03',\n",
       "       '03', '03', '03', '03', '03', '03', '03', '03', '03', '03', '03',\n",
       "       '03', '03', '03', '03', '03', '03', '03', '03', '03', '03', '03',\n",
       "       '03', '03', '03', '03', '03', '03', '03', '03', '03', '03', '03',\n",
       "       '03', '03', '03', '03', '03', '03', '03', '03', '03', '03', '03',\n",
       "       '03', '03', '03', '03', '03', '03', '03', '03', '03', '03', '04',\n",
       "       '04', '04', '04', '04', '04', '04', '04', '04', '04', '04', '04',\n",
       "       '04', '04', '04', '04', '04', '04', '04', '04', '04', '04', '04',\n",
       "       '04', '04', '04', '04', '04', '04', '04', '04', '04', '04', '04',\n",
       "       '04', '04', '04', '04', '04', '04', '04', '04', '04', '04', '04',\n",
       "       '04', '04', '04', '04', '04', '04', '04', '04', '04', '04', '04',\n",
       "       '04', '04', '04', '04', '04', '04', '04', '04', '04', '04', '04',\n",
       "       '04', '04', '04', '04', '04', '04', '04', '04', '04', '04', '04',\n",
       "       '04', '04', '04', '04', '04', '04', '04', '04', '04', '04', '04',\n",
       "       '04', '04', '04', '04', '04', '04', '04', '04', '04', '04', '04',\n",
       "       '04', '04', '04', '04', '04', '04', '04', '04', '04', '04', '04',\n",
       "       '04', '04', '04', '04', '04', '04', '04', '04', '04', '04', '04',\n",
       "       '04', '04', '04', '04', '04', '04', '04', '04', '04', '04', '04',\n",
       "       '04', '04', '04', '04', '04', '04', '04', '04', '04', '04', '04',\n",
       "       '04', '04', '04', '04', '04', '04', '04', '04', '04', '04', '04',\n",
       "       '04', '04', '04', '04', '04', '04', '04', '04', '04', '04', '04',\n",
       "       '04', '04', '04', '04', '04', '04', '04', '04', '04', '04', '04',\n",
       "       '04', '04', '04', '04', '04', '04', '04', '04', '04', '04', '04',\n",
       "       '04', '04', '04', '04', '05', '05', '05', '05', '05', '05', '05',\n",
       "       '05', '05', '05', '05', '05', '05', '05', '05', '05', '05', '05',\n",
       "       '05', '05', '05', '05', '05', '05', '05', '05', '05', '05', '05',\n",
       "       '05', '05', '05', '05', '05', '05', '05', '05', '05', '05', '05',\n",
       "       '05', '05', '05', '05', '05', '05', '05', '05', '05', '05', '05',\n",
       "       '05', '05', '05', '05', '05', '05', '05', '05', '05', '05', '05',\n",
       "       '05', '05', '05', '05', '05', '05', '05', '05', '05', '05', '05',\n",
       "       '05', '05', '05', '05', '05', '05', '05', '05', '05', '05', '05',\n",
       "       '05', '05', '05', '05', '05', '05', '05', '05', '05', '05', '05',\n",
       "       '05', '05', '05', '05', '05', '05', '05', '05', '05', '05', '05',\n",
       "       '05', '05', '05', '05', '05', '05', '05', '05', '05', '05', '05',\n",
       "       '05', '05', '05', '05', '05', '05', '05', '05', '05', '05', '05',\n",
       "       '05', '05', '05', '05', '05', '05', '05', '05', '05', '05', '05',\n",
       "       '05', '05', '05', '05', '05', '05', '05', '05', '05', '05', '05',\n",
       "       '05', '05', '05', '05', '05', '05', '05', '05', '05', '05', '05',\n",
       "       '05', '05', '05', '05', '05', '05', '05', '05', '05', '05', '05',\n",
       "       '05', '05', '05', '05', '05', '05', '05', '05', '05', '05', '05',\n",
       "       '05', '05', '05', '05', '05', '05', '05', '05', '05', '06', '06',\n",
       "       '06', '06', '06', '06', '06', '06', '06', '06', '06', '06', '06',\n",
       "       '06', '06', '06', '06', '06', '06', '06', '06', '06', '06', '06',\n",
       "       '06', '06', '06', '06', '06', '06', '06', '06', '06', '06', '06',\n",
       "       '06', '06', '06', '06', '06', '06', '06', '06', '06', '06', '06',\n",
       "       '06', '06', '06', '06', '06', '06', '06', '06', '06', '06', '06',\n",
       "       '06', '06', '06', '06', '06', '06', '06', '06', '06', '06', '06',\n",
       "       '06', '06', '06', '06', '06', '06', '06', '06', '06', '06', '06',\n",
       "       '06', '06', '06', '06', '06', '06', '06', '06', '06', '06', '06',\n",
       "       '06', '06', '06', '06', '06', '06', '06', '06', '06', '06', '06',\n",
       "       '06', '06', '06', '06', '06', '06', '06', '06', '06', '06', '06',\n",
       "       '06', '06', '06', '06', '06', '06', '06', '06', '06', '06', '06',\n",
       "       '06', '06', '06', '06', '06', '06', '06', '06', '06', '06', '06',\n",
       "       '06', '06', '06', '06', '06', '06', '06', '06', '06', '06', '06',\n",
       "       '06', '06', '06', '06', '06', '06', '06', '06', '06', '06', '06',\n",
       "       '06', '06', '06', '06', '06', '06', '06', '06', '06', '06', '06',\n",
       "       '06', '06', '06', '06', '06', '06', '06', '06', '06', '06', '06',\n",
       "       '06', '06', '06', '06', '06', '06', '06', '06', '06', '06', '06',\n",
       "       '06', '06', '06'], dtype='<U2')"
      ]
     },
     "execution_count": 23,
     "metadata": {},
     "output_type": "execute_result"
    }
   ],
   "source": [
    "emotions"
   ]
  },
  {
   "cell_type": "code",
   "execution_count": 10,
   "id": "0df8b4a3",
   "metadata": {},
   "outputs": [],
   "source": [
    "### Label Encoder\n",
    "from tensorflow.keras.utils import to_categorical\n",
    "from sklearn.preprocessing import LabelEncoder\n",
    "\n",
    "labelencoder=LabelEncoder()\n",
    "y=to_categorical(labelencoder.fit_transform(emotions))"
   ]
  },
  {
   "cell_type": "code",
   "execution_count": 11,
   "id": "e64c06eb",
   "metadata": {},
   "outputs": [],
   "source": [
    "model = tf.keras.models.load_model(\"./saveModel/audio_classification.hdf5\")"
   ]
  },
  {
   "cell_type": "code",
   "execution_count": 12,
   "id": "a38def92",
   "metadata": {},
   "outputs": [],
   "source": [
    "feature1 = X[0]\n",
    "feature1 = feature1.reshape(1, 40, 1)"
   ]
  },
  {
   "cell_type": "code",
   "execution_count": 13,
   "id": "174f7489",
   "metadata": {},
   "outputs": [
    {
     "name": "stdout",
     "output_type": "stream",
     "text": [
      "1/1 [==============================] - 1s 1s/step\n"
     ]
    },
    {
     "data": {
      "text/plain": [
       "array([[9.9999976e-01, 8.8638537e-08, 1.5558891e-07, 2.5682223e-08,\n",
       "        1.8400105e-08]], dtype=float32)"
      ]
     },
     "execution_count": 13,
     "metadata": {},
     "output_type": "execute_result"
    }
   ],
   "source": [
    "livepreds = model.predict(feature1, batch_size=32, verbose=1)\n",
    "livepreds"
   ]
  },
  {
   "cell_type": "code",
   "execution_count": 14,
   "id": "0c720c7a",
   "metadata": {},
   "outputs": [
    {
     "data": {
      "text/plain": [
       "array(['02'], dtype='<U2')"
      ]
     },
     "execution_count": 14,
     "metadata": {},
     "output_type": "execute_result"
    }
   ],
   "source": [
    "livepreds1=livepreds.argmax(axis=1)\n",
    "liveabc = livepreds1.astype(int).flatten()\n",
    "livepredictions = (labelencoder.inverse_transform((liveabc)))\n",
    "livepredictions"
   ]
  },
  {
   "cell_type": "code",
   "execution_count": 15,
   "id": "c52c479a",
   "metadata": {},
   "outputs": [
    {
     "data": {
      "text/plain": [
       "array([[1., 0., 0., 0., 0.],\n",
       "       [1., 0., 0., 0., 0.],\n",
       "       [1., 0., 0., 0., 0.],\n",
       "       ...,\n",
       "       [0., 0., 0., 0., 1.],\n",
       "       [0., 0., 0., 0., 1.],\n",
       "       [0., 0., 0., 0., 1.]], dtype=float32)"
      ]
     },
     "execution_count": 15,
     "metadata": {},
     "output_type": "execute_result"
    }
   ],
   "source": [
    "y"
   ]
  },
  {
   "cell_type": "code",
   "execution_count": 22,
   "id": "39e56413",
   "metadata": {},
   "outputs": [],
   "source": [
    "emotions_df = pd.DataFrame(emotions, columns=[\"emotions\"])\n",
    "emotions_df.to_csv(\"./emotions.csv\", index=False)"
   ]
  },
  {
   "cell_type": "code",
   "execution_count": null,
   "id": "3e26f8e3",
   "metadata": {},
   "outputs": [],
   "source": []
  }
 ],
 "metadata": {
  "kernelspec": {
   "display_name": "Python 3",
   "language": "python",
   "name": "python3"
  },
  "language_info": {
   "codemirror_mode": {
    "name": "ipython",
    "version": 3
   },
   "file_extension": ".py",
   "mimetype": "text/x-python",
   "name": "python",
   "nbconvert_exporter": "python",
   "pygments_lexer": "ipython3",
   "version": "3.9.6"
  }
 },
 "nbformat": 4,
 "nbformat_minor": 5
}
