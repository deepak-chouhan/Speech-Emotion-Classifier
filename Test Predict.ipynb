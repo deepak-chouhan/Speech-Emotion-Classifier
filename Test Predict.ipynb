{
 "cells": [
  {
   "cell_type": "markdown",
   "id": "61fbcc5c",
   "metadata": {},
   "source": [
    "# Tesing 2\n",
    "- **02 = calm**\n",
    "- **03 = happy**\n",
    "- **04 = sad**\n",
    "- **05 = angry**\n",
    "- **06 = fearful**"
   ]
  },
  {
   "cell_type": "code",
   "execution_count": 1,
   "id": "5b5b6725",
   "metadata": {},
   "outputs": [
    {
     "name": "stdout",
     "output_type": "stream",
     "text": [
      "Populating the interactive namespace from numpy and matplotlib\n"
     ]
    }
   ],
   "source": [
    "import os\n",
    "\n",
    "import pandas as pd\n",
    "import numpy as np\n",
    "import matplotlib.pyplot as plt\n",
    "import tensorflow as tf\n",
    "%matplotlib inline\n",
    "%pylab inline\n",
    "\n",
    "import librosa\n",
    "import librosa.display\n",
    "from matplotlib.pyplot import specgram\n",
    "from sklearn.preprocessing import LabelEncoder\n",
    "import keras\n",
    "from keras.preprocessing import sequence\n",
    "from keras.models import Sequential\n",
    "from keras.layers import Dense, Embedding\n",
    "from keras.layers import LSTM\n",
    "from keras.preprocessing.text import Tokenizer\n",
    "from keras.preprocessing.sequence import pad_sequences\n",
    "from keras.layers import Input, Flatten, Dropout, Activation\n",
    "from keras.layers import Conv1D, MaxPooling1D, AveragePooling1D\n",
    "from keras.models import Model\n",
    "from keras.callbacks import ModelCheckpoint\n",
    "from sklearn.metrics import confusion_matrix"
   ]
  },
  {
   "cell_type": "code",
   "execution_count": 4,
   "id": "12c98d25",
   "metadata": {},
   "outputs": [
    {
     "data": {
      "text/html": [
       "<div>\n",
       "<style scoped>\n",
       "    .dataframe tbody tr th:only-of-type {\n",
       "        vertical-align: middle;\n",
       "    }\n",
       "\n",
       "    .dataframe tbody tr th {\n",
       "        vertical-align: top;\n",
       "    }\n",
       "\n",
       "    .dataframe thead th {\n",
       "        text-align: right;\n",
       "    }\n",
       "</style>\n",
       "<table border=\"1\" class=\"dataframe\">\n",
       "  <thead>\n",
       "    <tr style=\"text-align: right;\">\n",
       "      <th></th>\n",
       "      <th>emotions</th>\n",
       "    </tr>\n",
       "  </thead>\n",
       "  <tbody>\n",
       "    <tr>\n",
       "      <th>0</th>\n",
       "      <td>2</td>\n",
       "    </tr>\n",
       "    <tr>\n",
       "      <th>1</th>\n",
       "      <td>2</td>\n",
       "    </tr>\n",
       "    <tr>\n",
       "      <th>2</th>\n",
       "      <td>2</td>\n",
       "    </tr>\n",
       "    <tr>\n",
       "      <th>3</th>\n",
       "      <td>2</td>\n",
       "    </tr>\n",
       "    <tr>\n",
       "      <th>4</th>\n",
       "      <td>2</td>\n",
       "    </tr>\n",
       "    <tr>\n",
       "      <th>...</th>\n",
       "      <td>...</td>\n",
       "    </tr>\n",
       "    <tr>\n",
       "      <th>955</th>\n",
       "      <td>6</td>\n",
       "    </tr>\n",
       "    <tr>\n",
       "      <th>956</th>\n",
       "      <td>6</td>\n",
       "    </tr>\n",
       "    <tr>\n",
       "      <th>957</th>\n",
       "      <td>6</td>\n",
       "    </tr>\n",
       "    <tr>\n",
       "      <th>958</th>\n",
       "      <td>6</td>\n",
       "    </tr>\n",
       "    <tr>\n",
       "      <th>959</th>\n",
       "      <td>6</td>\n",
       "    </tr>\n",
       "  </tbody>\n",
       "</table>\n",
       "<p>960 rows × 1 columns</p>\n",
       "</div>"
      ],
      "text/plain": [
       "     emotions\n",
       "0           2\n",
       "1           2\n",
       "2           2\n",
       "3           2\n",
       "4           2\n",
       "..        ...\n",
       "955         6\n",
       "956         6\n",
       "957         6\n",
       "958         6\n",
       "959         6\n",
       "\n",
       "[960 rows x 1 columns]"
      ]
     },
     "execution_count": 4,
     "metadata": {},
     "output_type": "execute_result"
    }
   ],
   "source": [
    "emotions = pd.read_csv(\"./emotions.csv\")\n",
    "emotions"
   ]
  },
  {
   "cell_type": "code",
   "execution_count": 6,
   "id": "de54f67c",
   "metadata": {
    "scrolled": true
   },
   "outputs": [],
   "source": [
    "label_encoder = LabelEncoder()\n",
    "label_encoder.fit_transform(emotions[\"emotions\"].tolist());"
   ]
  },
  {
   "cell_type": "code",
   "execution_count": 7,
   "id": "dfb7d672",
   "metadata": {},
   "outputs": [],
   "source": [
    "def extract_features(filename):\n",
    "    audio, sample_rate = librosa.load(filename, res_type=\"kaiser_fast\")\n",
    "    mfccs_features = librosa.feature.mfcc(y=audio, sr=sample_rate, n_mfcc=40)\n",
    "    mfccs_scaled_features = np.mean(mfccs_features.T,axis=0)\n",
    "    \n",
    "    return mfccs_scaled_features"
   ]
  },
  {
   "cell_type": "code",
   "execution_count": 12,
   "id": "4eab8ed0",
   "metadata": {},
   "outputs": [],
   "source": [
    "def getPrediction(filename):\n",
    "    \"\"\"\n",
    "    This model return the predicted emotion of audio file\n",
    "    \"\"\"\n",
    "    # Importin emotions\n",
    "    emotions = pd.read_csv(\"./emotions.csv\")\n",
    "    emotions = emotions[\"emotions\"].tolist()\n",
    "    # Importing model\n",
    "    model = tf.keras.models.load_model(\"./savedModel/audio_classification3.hdf5\")\n",
    "    \n",
    "    # Extracting features\n",
    "    features = extract_features(filename)\n",
    "    features = features.reshape(1, 40, 1)\n",
    "    \n",
    "    # Fit the labels to label encoder\n",
    "    labelencoder = LabelEncoder()\n",
    "    labelencoder.fit_transform(emotions)\n",
    "    \n",
    "    # Making predictions\n",
    "    livepreds = model.predict(features, batch_size=32, verbose=1)\n",
    "    livepreds1=livepreds.argmax(axis=1)\n",
    "    liveabc = livepreds1.astype(int).flatten()\n",
    "    livepredictions = (labelencoder.inverse_transform((liveabc)))\n",
    "    print(livepredictions)\n",
    "    \n",
    "    return livepredictions"
   ]
  },
  {
   "cell_type": "code",
   "execution_count": 13,
   "id": "bade4146",
   "metadata": {},
   "outputs": [
    {
     "data": {
      "text/plain": [
       "'03-01-05-01-01-01-13.wav'"
      ]
     },
     "execution_count": 13,
     "metadata": {},
     "output_type": "execute_result"
    }
   ],
   "source": [
    "data = os.listdir(\"./Data/\")\n",
    "data[588]"
   ]
  },
  {
   "cell_type": "code",
   "execution_count": 14,
   "id": "e36a705a",
   "metadata": {},
   "outputs": [],
   "source": [
    "filepath = f\"./Data/{data[588]}\""
   ]
  },
  {
   "cell_type": "code",
   "execution_count": 15,
   "id": "5edad524",
   "metadata": {},
   "outputs": [
    {
     "name": "stdout",
     "output_type": "stream",
     "text": [
      "1/1 [==============================] - 0s 132ms/step\n",
      "[5]\n"
     ]
    },
    {
     "data": {
      "text/plain": [
       "array([5])"
      ]
     },
     "execution_count": 15,
     "metadata": {},
     "output_type": "execute_result"
    }
   ],
   "source": [
    "getPrediction(filepath)"
   ]
  }
 ],
 "metadata": {
  "kernelspec": {
   "display_name": "Python 3",
   "language": "python",
   "name": "python3"
  },
  "language_info": {
   "codemirror_mode": {
    "name": "ipython",
    "version": 3
   },
   "file_extension": ".py",
   "mimetype": "text/x-python",
   "name": "python",
   "nbconvert_exporter": "python",
   "pygments_lexer": "ipython3",
   "version": "3.9.6"
  }
 },
 "nbformat": 4,
 "nbformat_minor": 5
}
