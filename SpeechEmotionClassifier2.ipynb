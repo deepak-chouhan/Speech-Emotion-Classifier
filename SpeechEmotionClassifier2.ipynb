{
 "cells": [
  {
   "cell_type": "code",
   "execution_count": 1,
   "id": "1bc77860",
   "metadata": {},
   "outputs": [
    {
     "name": "stdout",
     "output_type": "stream",
     "text": [
      "Populating the interactive namespace from numpy and matplotlib\n"
     ]
    }
   ],
   "source": [
    "import os\n",
    "\n",
    "import pandas as pd\n",
    "import numpy as np\n",
    "import matplotlib.pyplot as plt\n",
    "import tensorflow as tf\n",
    "%matplotlib inline\n",
    "%pylab inline\n",
    "\n",
    "import librosa\n",
    "import librosa.display\n",
    "from matplotlib.pyplot import specgram\n",
    "import keras\n",
    "from keras.preprocessing import sequence\n",
    "from keras.models import Sequential\n",
    "from keras.layers import Dense, Embedding\n",
    "from keras.layers import LSTM\n",
    "from keras.preprocessing.text import Tokenizer\n",
    "from keras.preprocessing.sequence import pad_sequences\n",
    "from keras.layers import Input, Flatten, Dropout, Activation\n",
    "from keras.layers import Conv1D, MaxPooling1D, AveragePooling1D\n",
    "from keras.models import Model\n",
    "from keras.callbacks import ModelCheckpoint\n",
    "from sklearn.metrics import confusion_matrix"
   ]
  },
  {
   "cell_type": "code",
   "execution_count": 2,
   "id": "0e4695e7",
   "metadata": {},
   "outputs": [],
   "source": [
    "# importing labels of the files\n",
    "labels = os.listdir(\"Data/\")"
   ]
  },
  {
   "cell_type": "code",
   "execution_count": 3,
   "id": "abbb57ee",
   "metadata": {},
   "outputs": [
    {
     "data": {
      "text/plain": [
       "'03-01-02-01-01-01-06.wav'"
      ]
     },
     "execution_count": 3,
     "metadata": {},
     "output_type": "execute_result"
    }
   ],
   "source": [
    "labels[5]"
   ]
  },
  {
   "cell_type": "code",
   "execution_count": 4,
   "id": "3530447d",
   "metadata": {},
   "outputs": [
    {
     "data": {
      "image/png": "[encoded data removed]",
      "text/plain": [
       "<Figure size 720x360 with 1 Axes>"
      ]
     },
     "metadata": {
      "needs_background": "light"
     },
     "output_type": "display_data"
    }
   ],
   "source": [
    "data, sampling_rate = librosa.load(f\"Data/{labels[1]}\")\n",
    "\n",
    "plt.figure(figsize=(10,5))\n",
    "librosa.display.waveplot(data, sr=sampling_rate);"
   ]
  },
  {
   "cell_type": "markdown",
   "id": "b849f8bf",
   "metadata": {},
   "source": [
    "## Extract emotions"
   ]
  },
  {
   "cell_type": "code",
   "execution_count": 5,
   "id": "b84b08a8",
   "metadata": {},
   "outputs": [],
   "source": [
    "emotions = np.array([label.split(\"-\")[2] for label in labels])"
   ]
  },
  {
   "cell_type": "code",
   "execution_count": 6,
   "id": "a18d54c9",
   "metadata": {},
   "outputs": [
    {
     "data": {
      "text/plain": [
       "array(['02', '02', '02', '02', '02'], dtype='<U2')"
      ]
     },
     "execution_count": 6,
     "metadata": {},
     "output_type": "execute_result"
    }
   ],
   "source": [
    "emotions[:5]"
   ]
  },
  {
   "cell_type": "code",
   "execution_count": 7,
   "id": "253adbef",
   "metadata": {},
   "outputs": [],
   "source": [
    "def extract_features(filename):\n",
    "    audio, sample_rate = librosa.load(filename, res_type=\"kaiser_fast\")\n",
    "    mfccs_features = librosa.feature.mfcc(y=audio, sr=sample_rate, n_mfcc=40)\n",
    "    mfccs_scaled_features = np.mean(mfccs_features.T,axis=0)\n",
    "    \n",
    "    return mfccs_scaled_features"
   ]
  },
  {
   "cell_type": "code",
   "execution_count": 8,
   "id": "5c8605da",
   "metadata": {},
   "outputs": [],
   "source": [
    "features = []\n",
    "\n",
    "for label in labels:\n",
    "    filename = f\"Data/{label}\"\n",
    "    \n",
    "    emotion = label.split(\"-\")[2]\n",
    "    data = extract_features(filename)\n",
    "    features.append([data, emotion])"
   ]
  },
  {
   "cell_type": "code",
   "execution_count": 9,
   "id": "e4a7b3d9",
   "metadata": {},
   "outputs": [
    {
     "data": {
      "text/plain": [
       "[array([-6.66113403e+02,  5.62173576e+01, -7.56887484e+00,  1.57707405e+01,\n",
       "        -8.45027637e+00,  1.83744097e+00, -6.82167864e+00, -4.37701273e+00,\n",
       "        -5.91381168e+00,  5.17688990e-01, -5.59894037e+00, -2.13708138e+00,\n",
       "        -6.38166094e+00,  2.84868383e+00, -6.89996719e+00, -1.23033297e+00,\n",
       "        -4.16035271e+00, -1.37664831e+00, -4.97348595e+00, -1.35401809e+00,\n",
       "        -2.00252700e+00, -2.14882398e+00, -1.11055171e+00, -2.46265188e-01,\n",
       "        -1.22439280e-01,  4.77262735e-01,  4.27485657e+00,  4.82439423e+00,\n",
       "         7.54139376e+00,  4.93660450e+00,  3.66524744e+00,  3.25066614e+00,\n",
       "         2.14365625e+00,  3.23849964e+00,  2.43824267e+00,  2.52844048e+00,\n",
       "        -3.09295207e-01,  9.82488215e-01,  1.01983917e+00,  5.99840820e-01],\n",
       "       dtype=float32),\n",
       " '02']"
      ]
     },
     "execution_count": 9,
     "metadata": {},
     "output_type": "execute_result"
    }
   ],
   "source": [
    "features[1]"
   ]
  },
  {
   "cell_type": "code",
   "execution_count": 10,
   "id": "0450a46f",
   "metadata": {},
   "outputs": [],
   "source": [
    "features_df = pd.DataFrame(features, columns=[\"feature\", \"emotion\"])"
   ]
  },
  {
   "cell_type": "code",
   "execution_count": 11,
   "id": "2c3d6298",
   "metadata": {},
   "outputs": [
    {
     "data": {
      "text/html": [
       "<div>\n",
       "<style scoped>\n",
       "    .dataframe tbody tr th:only-of-type {\n",
       "        vertical-align: middle;\n",
       "    }\n",
       "\n",
       "    .dataframe tbody tr th {\n",
       "        vertical-align: top;\n",
       "    }\n",
       "\n",
       "    .dataframe thead th {\n",
       "        text-align: right;\n",
       "    }\n",
       "</style>\n",
       "<table border=\"1\" class=\"dataframe\">\n",
       "  <thead>\n",
       "    <tr style=\"text-align: right;\">\n",
       "      <th></th>\n",
       "      <th>feature</th>\n",
       "      <th>emotion</th>\n",
       "    </tr>\n",
       "  </thead>\n",
       "  <tbody>\n",
       "    <tr>\n",
       "      <th>0</th>\n",
       "      <td>[-729.98016, 66.51589, -0.9419843, 19.070974, ...</td>\n",
       "      <td>02</td>\n",
       "    </tr>\n",
       "    <tr>\n",
       "      <th>1</th>\n",
       "      <td>[-666.1134, 56.217358, -7.568875, 15.7707405, ...</td>\n",
       "      <td>02</td>\n",
       "    </tr>\n",
       "    <tr>\n",
       "      <th>2</th>\n",
       "      <td>[-639.27637, 69.9923, 0.7942198, 17.575535, 1....</td>\n",
       "      <td>02</td>\n",
       "    </tr>\n",
       "    <tr>\n",
       "      <th>3</th>\n",
       "      <td>[-663.54083, 56.19745, -15.152023, 8.111385, -...</td>\n",
       "      <td>02</td>\n",
       "    </tr>\n",
       "    <tr>\n",
       "      <th>4</th>\n",
       "      <td>[-734.74243, 77.852264, 6.6088023, 23.579966, ...</td>\n",
       "      <td>02</td>\n",
       "    </tr>\n",
       "  </tbody>\n",
       "</table>\n",
       "</div>"
      ],
      "text/plain": [
       "                                             feature emotion\n",
       "0  [-729.98016, 66.51589, -0.9419843, 19.070974, ...      02\n",
       "1  [-666.1134, 56.217358, -7.568875, 15.7707405, ...      02\n",
       "2  [-639.27637, 69.9923, 0.7942198, 17.575535, 1....      02\n",
       "3  [-663.54083, 56.19745, -15.152023, 8.111385, -...      02\n",
       "4  [-734.74243, 77.852264, 6.6088023, 23.579966, ...      02"
      ]
     },
     "execution_count": 11,
     "metadata": {},
     "output_type": "execute_result"
    }
   ],
   "source": [
    "features_df.head()"
   ]
  },
  {
   "cell_type": "code",
   "execution_count": 12,
   "id": "ba7d202d",
   "metadata": {},
   "outputs": [],
   "source": [
    "### Split the dataset into independent and dependent dataset\n",
    "X=np.array(features_df['feature'].tolist())\n",
    "y=np.array(features_df['emotion'].tolist())"
   ]
  },
  {
   "cell_type": "code",
   "execution_count": 13,
   "id": "d68b70c7",
   "metadata": {},
   "outputs": [
    {
     "data": {
      "text/plain": [
       "((960, 40), (960,))"
      ]
     },
     "execution_count": 13,
     "metadata": {},
     "output_type": "execute_result"
    }
   ],
   "source": [
    "X.shape, y.shape"
   ]
  },
  {
   "cell_type": "code",
   "execution_count": 14,
   "id": "7c8c4aca",
   "metadata": {},
   "outputs": [
    {
     "data": {
      "text/plain": [
       "array(['02', '02', '02', '02', '02', '02', '02', '02', '02', '02'],\n",
       "      dtype='<U2')"
      ]
     },
     "execution_count": 14,
     "metadata": {},
     "output_type": "execute_result"
    }
   ],
   "source": [
    "y[:10]"
   ]
  },
  {
   "cell_type": "code",
   "execution_count": 15,
   "id": "5594c181",
   "metadata": {},
   "outputs": [],
   "source": [
    "### Label Encoder\n",
    "from tensorflow.keras.utils import to_categorical\n",
    "from sklearn.preprocessing import LabelEncoder\n",
    "\n",
    "labelencoder=LabelEncoder()\n",
    "y=to_categorical(labelencoder.fit_transform(y))"
   ]
  },
  {
   "cell_type": "code",
   "execution_count": 16,
   "id": "71467716",
   "metadata": {},
   "outputs": [
    {
     "data": {
      "text/plain": [
       "array([[1., 0., 0., 0., 0.],\n",
       "       [1., 0., 0., 0., 0.],\n",
       "       [1., 0., 0., 0., 0.],\n",
       "       ...,\n",
       "       [0., 0., 0., 0., 1.],\n",
       "       [0., 0., 0., 0., 1.],\n",
       "       [0., 0., 0., 0., 1.]], dtype=float32)"
      ]
     },
     "execution_count": 16,
     "metadata": {},
     "output_type": "execute_result"
    }
   ],
   "source": [
    "y"
   ]
  },
  {
   "cell_type": "code",
   "execution_count": 17,
   "id": "2b30e3b6",
   "metadata": {},
   "outputs": [],
   "source": [
    "### Train Test Split\n",
    "from sklearn.model_selection import train_test_split\n",
    "\n",
    "X_train,X_test,y_train,y_test=train_test_split(X,y,test_size=0.2,random_state=0)"
   ]
  },
  {
   "cell_type": "code",
   "execution_count": 18,
   "id": "3c5bc5e8",
   "metadata": {},
   "outputs": [
    {
     "data": {
      "text/plain": [
       "array([[-6.9474713e+02,  5.5160381e+01, -2.5127358e+00, ...,\n",
       "        -7.3903787e-01, -1.9837615e+00, -1.2665052e+00],\n",
       "       [-8.0673053e+02,  4.5237591e+01, -5.5813923e+00, ...,\n",
       "         2.7756355e+00,  5.9816724e-01,  5.2687460e-01],\n",
       "       [-6.1684766e+02,  8.1195053e+01, -6.6228852e+00, ...,\n",
       "         2.4592552e+00, -1.2701117e+00, -6.9109130e-01],\n",
       "       ...,\n",
       "       [-5.8245581e+02,  4.5947723e+01, -2.5991879e+01, ...,\n",
       "        -7.8162730e-01,  1.3410363e+00,  1.9998642e+00],\n",
       "       [-6.3795978e+02,  7.1686310e+01, -6.8877344e+00, ...,\n",
       "         4.0222698e-01, -1.3108990e+00,  5.2045202e-01],\n",
       "       [-3.6642828e+02,  2.3118233e+01, -1.6935003e+01, ...,\n",
       "         2.2547913e-01,  1.0447268e+00,  3.1393673e+00]], dtype=float32)"
      ]
     },
     "execution_count": 18,
     "metadata": {},
     "output_type": "execute_result"
    }
   ],
   "source": [
    "X_train"
   ]
  },
  {
   "cell_type": "code",
   "execution_count": 19,
   "id": "605806b7",
   "metadata": {},
   "outputs": [
    {
     "data": {
      "text/plain": [
       "array([[0., 0., 1., 0., 0.],\n",
       "       [0., 0., 1., 0., 0.],\n",
       "       [1., 0., 0., 0., 0.],\n",
       "       ...,\n",
       "       [0., 0., 0., 1., 0.],\n",
       "       [0., 0., 1., 0., 0.],\n",
       "       [0., 0., 0., 1., 0.]], dtype=float32)"
      ]
     },
     "execution_count": 19,
     "metadata": {},
     "output_type": "execute_result"
    }
   ],
   "source": [
    "y_train"
   ]
  },
  {
   "cell_type": "code",
   "execution_count": 20,
   "id": "0ba77901",
   "metadata": {},
   "outputs": [
    {
     "data": {
      "text/plain": [
       "((768, 40), (768, 5), (192, 40), (192, 5))"
      ]
     },
     "execution_count": 20,
     "metadata": {},
     "output_type": "execute_result"
    }
   ],
   "source": [
    "X_train.shape, y_train.shape, X_test.shape, y_test.shape"
   ]
  },
  {
   "cell_type": "markdown",
   "id": "df01cc22",
   "metadata": {},
   "source": [
    "## Model Creation"
   ]
  },
  {
   "cell_type": "code",
   "execution_count": 21,
   "id": "e3db58cd",
   "metadata": {},
   "outputs": [],
   "source": [
    "### No of classes\n",
    "num_labels=y.shape[1]"
   ]
  },
  {
   "cell_type": "code",
   "execution_count": 22,
   "id": "e317f2e1",
   "metadata": {},
   "outputs": [],
   "source": [
    "model=Sequential()\n",
    "###first layer\n",
    "model.add(Dense(100,input_shape=(40,)))\n",
    "model.add(Activation('relu'))\n",
    "model.add(Dropout(0.5))\n",
    "###second layer\n",
    "model.add(Dense(200))\n",
    "model.add(Activation('relu'))\n",
    "model.add(Dropout(0.5))\n",
    "###third layer\n",
    "model.add(Dense(100))\n",
    "model.add(Activation('relu'))\n",
    "model.add(Dropout(0.5))\n",
    "\n",
    "###final layer\n",
    "model.add(Dense(num_labels))\n",
    "model.add(Activation('softmax'))"
   ]
  },
  {
   "cell_type": "code",
   "execution_count": 23,
   "id": "0ecfa95b",
   "metadata": {},
   "outputs": [
    {
     "name": "stdout",
     "output_type": "stream",
     "text": [
      "Model: \"sequential\"\n",
      "_________________________________________________________________\n",
      " Layer (type)                Output Shape              Param #   \n",
      "=================================================================\n",
      " dense (Dense)               (None, 100)               4100      \n",
      "                                                                 \n",
      " activation (Activation)     (None, 100)               0         \n",
      "                                                                 \n",
      " dropout (Dropout)           (None, 100)               0         \n",
      "                                                                 \n",
      " dense_1 (Dense)             (None, 200)               20200     \n",
      "                                                                 \n",
      " activation_1 (Activation)   (None, 200)               0         \n",
      "                                                                 \n",
      " dropout_1 (Dropout)         (None, 200)               0         \n",
      "                                                                 \n",
      " dense_2 (Dense)             (None, 100)               20100     \n",
      "                                                                 \n",
      " activation_2 (Activation)   (None, 100)               0         \n",
      "                                                                 \n",
      " dropout_2 (Dropout)         (None, 100)               0         \n",
      "                                                                 \n",
      " dense_3 (Dense)             (None, 5)                 505       \n",
      "                                                                 \n",
      " activation_3 (Activation)   (None, 5)                 0         \n",
      "                                                                 \n",
      "=================================================================\n",
      "Total params: 44,905\n",
      "Trainable params: 44,905\n",
      "Non-trainable params: 0\n",
      "_________________________________________________________________\n"
     ]
    }
   ],
   "source": [
    "model.summary()"
   ]
  },
  {
   "cell_type": "code",
   "execution_count": 24,
   "id": "7d2b6b6b",
   "metadata": {},
   "outputs": [],
   "source": [
    "model.compile(loss='categorical_crossentropy',metrics=['accuracy'],optimizer='adam')"
   ]
  },
  {
   "cell_type": "code",
   "execution_count": 25,
   "id": "0cabc466",
   "metadata": {},
   "outputs": [
    {
     "name": "stdout",
     "output_type": "stream",
     "text": [
      "Epoch 1/100\n",
      " 1/24 [>.............................] - ETA: 26s - loss: 150.9099 - accuracy: 0.1250\n",
      "Epoch 00001: val_loss improved from inf to 7.72853, saving model to ./saveModel\\audio_classification2.hdf5\n",
      "24/24 [==============================] - 2s 16ms/step - loss: 71.0830 - accuracy: 0.2031 - val_loss: 7.7285 - val_accuracy: 0.2656\n",
      "Epoch 2/100\n",
      " 1/24 [>.............................] - ETA: 0s - loss: 46.2728 - accuracy: 0.3125\n",
      "Epoch 00002: val_loss improved from 7.72853 to 2.82045, saving model to ./saveModel\\audio_classification2.hdf5\n",
      "24/24 [==============================] - 0s 8ms/step - loss: 34.6958 - accuracy: 0.2005 - val_loss: 2.8204 - val_accuracy: 0.2500\n",
      "Epoch 3/100\n",
      " 1/24 [>.............................] - ETA: 0s - loss: 16.5913 - accuracy: 0.3125\n",
      "Epoch 00003: val_loss improved from 2.82045 to 1.66425, saving model to ./saveModel\\audio_classification2.hdf5\n",
      "24/24 [==============================] - 0s 5ms/step - loss: 20.5658 - accuracy: 0.2083 - val_loss: 1.6643 - val_accuracy: 0.2344\n",
      "Epoch 4/100\n",
      " 1/24 [>.............................] - ETA: 0s - loss: 14.9461 - accuracy: 0.2812\n",
      "Epoch 00004: val_loss improved from 1.66425 to 1.60716, saving model to ./saveModel\\audio_classification2.hdf5\n",
      "24/24 [==============================] - 0s 4ms/step - loss: 15.6959 - accuracy: 0.1862 - val_loss: 1.6072 - val_accuracy: 0.2292\n",
      "Epoch 5/100\n",
      " 1/24 [>.............................] - ETA: 0s - loss: 8.7397 - accuracy: 0.1562\n",
      "Epoch 00005: val_loss did not improve from 1.60716\n",
      "24/24 [==============================] - 0s 2ms/step - loss: 9.1897 - accuracy: 0.2031 - val_loss: 1.6131 - val_accuracy: 0.2083\n",
      "Epoch 6/100\n",
      " 1/24 [>.............................] - ETA: 0s - loss: 5.1211 - accuracy: 0.2812\n",
      "Epoch 00006: val_loss did not improve from 1.60716\n",
      "24/24 [==============================] - 0s 2ms/step - loss: 7.3913 - accuracy: 0.1888 - val_loss: 1.6072 - val_accuracy: 0.2135\n",
      "Epoch 7/100\n",
      " 1/24 [>.............................] - ETA: 0s - loss: 4.5239 - accuracy: 0.3750\n",
      "Epoch 00007: val_loss improved from 1.60716 to 1.60702, saving model to ./saveModel\\audio_classification2.hdf5\n",
      "24/24 [==============================] - 0s 4ms/step - loss: 5.3362 - accuracy: 0.2005 - val_loss: 1.6070 - val_accuracy: 0.2135\n",
      "Epoch 8/100\n",
      " 1/24 [>.............................] - ETA: 0s - loss: 5.3800 - accuracy: 0.1250\n",
      "Epoch 00008: val_loss improved from 1.60702 to 1.60686, saving model to ./saveModel\\audio_classification2.hdf5\n",
      "24/24 [==============================] - 0s 4ms/step - loss: 4.5298 - accuracy: 0.1823 - val_loss: 1.6069 - val_accuracy: 0.2135\n",
      "Epoch 9/100\n",
      " 1/24 [>.............................] - ETA: 0s - loss: 3.4816 - accuracy: 0.2188\n",
      "Epoch 00009: val_loss did not improve from 1.60686\n",
      "24/24 [==============================] - 0s 2ms/step - loss: 3.6619 - accuracy: 0.2305 - val_loss: 1.6072 - val_accuracy: 0.2135\n",
      "Epoch 10/100\n",
      " 1/24 [>.............................] - ETA: 0s - loss: 3.6277 - accuracy: 0.2500\n",
      "Epoch 00010: val_loss did not improve from 1.60686\n",
      "24/24 [==============================] - 0s 2ms/step - loss: 3.1800 - accuracy: 0.1888 - val_loss: 1.6072 - val_accuracy: 0.2135\n",
      "Epoch 11/100\n",
      " 1/24 [>.............................] - ETA: 0s - loss: 3.1750 - accuracy: 0.1562\n",
      "Epoch 00011: val_loss did not improve from 1.60686\n",
      "24/24 [==============================] - 0s 3ms/step - loss: 2.8969 - accuracy: 0.1927 - val_loss: 1.6072 - val_accuracy: 0.2135\n",
      "Epoch 12/100\n",
      " 1/24 [>.............................] - ETA: 0s - loss: 1.9932 - accuracy: 0.1875\n",
      "Epoch 00012: val_loss did not improve from 1.60686\n",
      "24/24 [==============================] - 0s 2ms/step - loss: 2.4564 - accuracy: 0.2044 - val_loss: 1.6073 - val_accuracy: 0.2135\n",
      "Epoch 13/100\n",
      " 1/24 [>.............................] - ETA: 0s - loss: 1.8400 - accuracy: 0.0938\n",
      "Epoch 00013: val_loss did not improve from 1.60686\n",
      "24/24 [==============================] - 0s 2ms/step - loss: 2.2675 - accuracy: 0.2070 - val_loss: 1.6075 - val_accuracy: 0.2135\n",
      "Epoch 14/100\n",
      " 1/24 [>.............................] - ETA: 0s - loss: 1.8543 - accuracy: 0.2188\n",
      "Epoch 00014: val_loss did not improve from 1.60686\n",
      "24/24 [==============================] - 0s 2ms/step - loss: 2.1137 - accuracy: 0.1875 - val_loss: 1.6075 - val_accuracy: 0.2135\n",
      "Epoch 15/100\n",
      " 1/24 [>.............................] - ETA: 0s - loss: 1.8329 - accuracy: 0.2500\n",
      "Epoch 00015: val_loss did not improve from 1.60686\n",
      "24/24 [==============================] - 0s 2ms/step - loss: 2.1299 - accuracy: 0.2083 - val_loss: 1.6076 - val_accuracy: 0.2135\n",
      "Epoch 16/100\n",
      "23/24 [===========================>..] - ETA: 0s - loss: 1.9384 - accuracy: 0.2174\n",
      "Epoch 00016: val_loss did not improve from 1.60686\n",
      "24/24 [==============================] - 0s 3ms/step - loss: 1.9443 - accuracy: 0.2148 - val_loss: 1.6079 - val_accuracy: 0.2135\n",
      "Epoch 17/100\n",
      " 1/24 [>.............................] - ETA: 0s - loss: 2.4793 - accuracy: 0.1562\n",
      "Epoch 00017: val_loss did not improve from 1.60686\n",
      "24/24 [==============================] - 0s 3ms/step - loss: 1.8252 - accuracy: 0.2161 - val_loss: 1.6080 - val_accuracy: 0.2135\n",
      "Epoch 18/100\n",
      " 1/24 [>.............................] - ETA: 0s - loss: 2.2679 - accuracy: 0.0938\n",
      "Epoch 00018: val_loss did not improve from 1.60686\n",
      "24/24 [==============================] - 0s 3ms/step - loss: 1.8559 - accuracy: 0.1953 - val_loss: 1.6084 - val_accuracy: 0.2135\n",
      "Epoch 19/100\n",
      " 1/24 [>.............................] - ETA: 0s - loss: 1.9969 - accuracy: 0.2500\n",
      "Epoch 00019: val_loss did not improve from 1.60686\n",
      "24/24 [==============================] - 0s 2ms/step - loss: 1.8658 - accuracy: 0.1992 - val_loss: 1.6086 - val_accuracy: 0.2135\n",
      "Epoch 20/100\n",
      " 1/24 [>.............................] - ETA: 0s - loss: 2.1072 - accuracy: 0.1250\n",
      "Epoch 00020: val_loss did not improve from 1.60686\n",
      "24/24 [==============================] - 0s 3ms/step - loss: 1.7579 - accuracy: 0.1940 - val_loss: 1.6088 - val_accuracy: 0.2135\n",
      "Epoch 21/100\n",
      " 1/24 [>.............................] - ETA: 0s - loss: 1.6833 - accuracy: 0.2500\n",
      "Epoch 00021: val_loss did not improve from 1.60686\n",
      "24/24 [==============================] - 0s 3ms/step - loss: 1.8336 - accuracy: 0.2018 - val_loss: 1.6091 - val_accuracy: 0.2135\n",
      "Epoch 22/100\n",
      " 1/24 [>.............................] - ETA: 0s - loss: 1.7091 - accuracy: 0.1562\n",
      "Epoch 00022: val_loss did not improve from 1.60686\n",
      "24/24 [==============================] - 0s 3ms/step - loss: 1.7503 - accuracy: 0.1992 - val_loss: 1.6093 - val_accuracy: 0.2135\n",
      "Epoch 23/100\n",
      " 1/24 [>.............................] - ETA: 0s - loss: 1.5290 - accuracy: 0.2812\n",
      "Epoch 00023: val_loss did not improve from 1.60686\n",
      "24/24 [==============================] - 0s 3ms/step - loss: 1.7404 - accuracy: 0.1901 - val_loss: 1.6094 - val_accuracy: 0.2135\n",
      "Epoch 24/100\n",
      " 1/24 [>.............................] - ETA: 0s - loss: 1.7942 - accuracy: 0.1875\n",
      "Epoch 00024: val_loss did not improve from 1.60686\n",
      "24/24 [==============================] - 0s 2ms/step - loss: 1.6994 - accuracy: 0.1953 - val_loss: 1.6097 - val_accuracy: 0.2135\n",
      "Epoch 25/100\n",
      " 1/24 [>.............................] - ETA: 0s - loss: 1.6368 - accuracy: 0.1250\n",
      "Epoch 00025: val_loss did not improve from 1.60686\n",
      "24/24 [==============================] - 0s 2ms/step - loss: 1.7210 - accuracy: 0.2070 - val_loss: 1.6100 - val_accuracy: 0.2135\n",
      "Epoch 26/100\n",
      " 1/24 [>.............................] - ETA: 0s - loss: 1.6222 - accuracy: 0.2812\n",
      "Epoch 00026: val_loss did not improve from 1.60686\n",
      "24/24 [==============================] - 0s 2ms/step - loss: 1.7438 - accuracy: 0.2005 - val_loss: 1.6102 - val_accuracy: 0.2135\n",
      "Epoch 27/100\n",
      " 1/24 [>.............................] - ETA: 0s - loss: 1.6262 - accuracy: 0.2188\n",
      "Epoch 00027: val_loss did not improve from 1.60686\n",
      "24/24 [==============================] - 0s 2ms/step - loss: 1.7644 - accuracy: 0.1966 - val_loss: 1.6104 - val_accuracy: 0.2135\n",
      "Epoch 28/100\n",
      " 1/24 [>.............................] - ETA: 0s - loss: 1.8335 - accuracy: 0.1875\n",
      "Epoch 00028: val_loss did not improve from 1.60686\n",
      "24/24 [==============================] - 0s 2ms/step - loss: 1.6775 - accuracy: 0.1953 - val_loss: 1.6106 - val_accuracy: 0.2135\n",
      "Epoch 29/100\n",
      " 1/24 [>.............................] - ETA: 0s - loss: 1.7589 - accuracy: 0.1562\n",
      "Epoch 00029: val_loss did not improve from 1.60686\n",
      "24/24 [==============================] - 0s 2ms/step - loss: 1.7087 - accuracy: 0.1992 - val_loss: 1.6109 - val_accuracy: 0.2135\n"
     ]
    },
    {
     "name": "stdout",
     "output_type": "stream",
     "text": [
      "Epoch 30/100\n",
      " 1/24 [>.............................] - ETA: 0s - loss: 1.6332 - accuracy: 0.2500\n",
      "Epoch 00030: val_loss did not improve from 1.60686\n",
      "24/24 [==============================] - 0s 2ms/step - loss: 1.6768 - accuracy: 0.1914 - val_loss: 1.6110 - val_accuracy: 0.2135\n",
      "Epoch 31/100\n",
      " 1/24 [>.............................] - ETA: 0s - loss: 1.6283 - accuracy: 0.1562\n",
      "Epoch 00031: val_loss did not improve from 1.60686\n",
      "24/24 [==============================] - 0s 2ms/step - loss: 1.6849 - accuracy: 0.1758 - val_loss: 1.6114 - val_accuracy: 0.1406\n",
      "Epoch 32/100\n",
      " 1/24 [>.............................] - ETA: 0s - loss: 1.6113 - accuracy: 0.2812\n",
      "Epoch 00032: val_loss did not improve from 1.60686\n",
      "24/24 [==============================] - 0s 2ms/step - loss: 1.6626 - accuracy: 0.2161 - val_loss: 1.6115 - val_accuracy: 0.1406\n",
      "Epoch 33/100\n",
      " 1/24 [>.............................] - ETA: 0s - loss: 1.6408 - accuracy: 0.2500\n",
      "Epoch 00033: val_loss did not improve from 1.60686\n",
      "24/24 [==============================] - 0s 2ms/step - loss: 1.6436 - accuracy: 0.2227 - val_loss: 1.6119 - val_accuracy: 0.1406\n",
      "Epoch 34/100\n",
      " 1/24 [>.............................] - ETA: 0s - loss: 1.8226 - accuracy: 0.1875\n",
      "Epoch 00034: val_loss did not improve from 1.60686\n",
      "24/24 [==============================] - 0s 2ms/step - loss: 1.7059 - accuracy: 0.2057 - val_loss: 1.6121 - val_accuracy: 0.1406\n",
      "Epoch 35/100\n",
      " 1/24 [>.............................] - ETA: 0s - loss: 1.6409 - accuracy: 0.1875\n",
      "Epoch 00035: val_loss did not improve from 1.60686\n",
      "24/24 [==============================] - 0s 2ms/step - loss: 1.6559 - accuracy: 0.2122 - val_loss: 1.6123 - val_accuracy: 0.1406\n",
      "Epoch 36/100\n",
      " 1/24 [>.............................] - ETA: 0s - loss: 1.6140 - accuracy: 0.1250\n",
      "Epoch 00036: val_loss did not improve from 1.60686\n",
      "24/24 [==============================] - 0s 2ms/step - loss: 1.6351 - accuracy: 0.2188 - val_loss: 1.6126 - val_accuracy: 0.1406\n",
      "Epoch 37/100\n",
      " 1/24 [>.............................] - ETA: 0s - loss: 1.6323 - accuracy: 0.2812\n",
      "Epoch 00037: val_loss did not improve from 1.60686\n",
      "24/24 [==============================] - 0s 2ms/step - loss: 1.6250 - accuracy: 0.2161 - val_loss: 1.6128 - val_accuracy: 0.1406\n",
      "Epoch 38/100\n",
      " 1/24 [>.............................] - ETA: 0s - loss: 1.6446 - accuracy: 0.1250\n",
      "Epoch 00038: val_loss did not improve from 1.60686\n",
      "24/24 [==============================] - 0s 2ms/step - loss: 1.6488 - accuracy: 0.2135 - val_loss: 1.6131 - val_accuracy: 0.1406\n",
      "Epoch 39/100\n",
      " 1/24 [>.............................] - ETA: 0s - loss: 1.6158 - accuracy: 0.2500\n",
      "Epoch 00039: val_loss did not improve from 1.60686\n",
      "24/24 [==============================] - 0s 2ms/step - loss: 1.6636 - accuracy: 0.2070 - val_loss: 1.6133 - val_accuracy: 0.1406\n",
      "Epoch 40/100\n",
      " 1/24 [>.............................] - ETA: 0s - loss: 1.6313 - accuracy: 0.1250\n",
      "Epoch 00040: val_loss did not improve from 1.60686\n",
      "24/24 [==============================] - 0s 2ms/step - loss: 1.6546 - accuracy: 0.2227 - val_loss: 1.6135 - val_accuracy: 0.1406\n",
      "Epoch 41/100\n",
      " 1/24 [>.............................] - ETA: 0s - loss: 1.6778 - accuracy: 0.2812\n",
      "Epoch 00041: val_loss did not improve from 1.60686\n",
      "24/24 [==============================] - 0s 2ms/step - loss: 1.6527 - accuracy: 0.2109 - val_loss: 1.6137 - val_accuracy: 0.1406\n",
      "Epoch 42/100\n",
      " 1/24 [>.............................] - ETA: 0s - loss: 1.5893 - accuracy: 0.2500\n",
      "Epoch 00042: val_loss did not improve from 1.60686\n",
      "24/24 [==============================] - 0s 2ms/step - loss: 1.6290 - accuracy: 0.2214 - val_loss: 1.6138 - val_accuracy: 0.1406\n",
      "Epoch 43/100\n",
      " 1/24 [>.............................] - ETA: 0s - loss: 1.6324 - accuracy: 0.2188\n",
      "Epoch 00043: val_loss did not improve from 1.60686\n",
      "24/24 [==============================] - 0s 2ms/step - loss: 1.6350 - accuracy: 0.2109 - val_loss: 1.6137 - val_accuracy: 0.1406\n",
      "Epoch 44/100\n",
      " 1/24 [>.............................] - ETA: 0s - loss: 1.6233 - accuracy: 0.1875\n",
      "Epoch 00044: val_loss did not improve from 1.60686\n",
      "24/24 [==============================] - 0s 2ms/step - loss: 1.6511 - accuracy: 0.2188 - val_loss: 1.6141 - val_accuracy: 0.1406\n",
      "Epoch 45/100\n",
      " 1/24 [>.............................] - ETA: 0s - loss: 1.5994 - accuracy: 0.1875\n",
      "Epoch 00045: val_loss did not improve from 1.60686\n",
      "24/24 [==============================] - 0s 2ms/step - loss: 1.6519 - accuracy: 0.2201 - val_loss: 1.6143 - val_accuracy: 0.1406\n",
      "Epoch 46/100\n",
      " 1/24 [>.............................] - ETA: 0s - loss: 1.5991 - accuracy: 0.3750\n",
      "Epoch 00046: val_loss did not improve from 1.60686\n",
      "24/24 [==============================] - 0s 2ms/step - loss: 1.6123 - accuracy: 0.2161 - val_loss: 1.6144 - val_accuracy: 0.1406\n",
      "Epoch 47/100\n",
      " 1/24 [>.............................] - ETA: 0s - loss: 1.6209 - accuracy: 0.0938\n",
      "Epoch 00047: val_loss did not improve from 1.60686\n",
      "24/24 [==============================] - 0s 2ms/step - loss: 1.6198 - accuracy: 0.2148 - val_loss: 1.6144 - val_accuracy: 0.1406\n",
      "Epoch 48/100\n",
      " 1/24 [>.............................] - ETA: 0s - loss: 1.6035 - accuracy: 0.3125\n",
      "Epoch 00048: val_loss did not improve from 1.60686\n",
      "24/24 [==============================] - 0s 3ms/step - loss: 1.6372 - accuracy: 0.2148 - val_loss: 1.6146 - val_accuracy: 0.1406\n",
      "Epoch 49/100\n",
      " 1/24 [>.............................] - ETA: 0s - loss: 1.5761 - accuracy: 0.2500\n",
      "Epoch 00049: val_loss did not improve from 1.60686\n",
      "24/24 [==============================] - 0s 3ms/step - loss: 1.6403 - accuracy: 0.2188 - val_loss: 1.6146 - val_accuracy: 0.1406\n",
      "Epoch 50/100\n",
      " 1/24 [>.............................] - ETA: 0s - loss: 1.7156 - accuracy: 0.2188\n",
      "Epoch 00050: val_loss did not improve from 1.60686\n",
      "24/24 [==============================] - 0s 4ms/step - loss: 1.6569 - accuracy: 0.2135 - val_loss: 1.6146 - val_accuracy: 0.1406\n",
      "Epoch 51/100\n",
      " 1/24 [>.............................] - ETA: 0s - loss: 1.6138 - accuracy: 0.1250\n",
      "Epoch 00051: val_loss did not improve from 1.60686\n",
      "24/24 [==============================] - 0s 3ms/step - loss: 1.6483 - accuracy: 0.2161 - val_loss: 1.6148 - val_accuracy: 0.1406\n",
      "Epoch 52/100\n",
      " 1/24 [>.............................] - ETA: 0s - loss: 1.8428 - accuracy: 0.0938\n",
      "Epoch 00052: val_loss did not improve from 1.60686\n",
      "24/24 [==============================] - 0s 2ms/step - loss: 1.6499 - accuracy: 0.2096 - val_loss: 1.6150 - val_accuracy: 0.1406\n",
      "Epoch 53/100\n",
      " 1/24 [>.............................] - ETA: 0s - loss: 1.5980 - accuracy: 0.2500\n",
      "Epoch 00053: val_loss did not improve from 1.60686\n",
      "24/24 [==============================] - 0s 2ms/step - loss: 1.6349 - accuracy: 0.2161 - val_loss: 1.6151 - val_accuracy: 0.1406\n",
      "Epoch 54/100\n",
      " 1/24 [>.............................] - ETA: 0s - loss: 1.6026 - accuracy: 0.2500\n",
      "Epoch 00054: val_loss did not improve from 1.60686\n",
      "24/24 [==============================] - 0s 2ms/step - loss: 1.6278 - accuracy: 0.2148 - val_loss: 1.6151 - val_accuracy: 0.1406\n",
      "Epoch 55/100\n",
      " 1/24 [>.............................] - ETA: 0s - loss: 1.6047 - accuracy: 0.1875\n",
      "Epoch 00055: val_loss did not improve from 1.60686\n",
      "24/24 [==============================] - 0s 3ms/step - loss: 1.6153 - accuracy: 0.2227 - val_loss: 1.6150 - val_accuracy: 0.1406\n",
      "Epoch 56/100\n",
      " 1/24 [>.............................] - ETA: 0s - loss: 1.6189 - accuracy: 0.1875\n",
      "Epoch 00056: val_loss did not improve from 1.60686\n",
      "24/24 [==============================] - 0s 3ms/step - loss: 1.6380 - accuracy: 0.2109 - val_loss: 1.6153 - val_accuracy: 0.1406\n",
      "Epoch 57/100\n",
      "20/24 [========================>.....] - ETA: 0s - loss: 1.6231 - accuracy: 0.2094\n",
      "Epoch 00057: val_loss did not improve from 1.60686\n",
      "24/24 [==============================] - 0s 5ms/step - loss: 1.6240 - accuracy: 0.2096 - val_loss: 1.6155 - val_accuracy: 0.1406\n",
      "Epoch 58/100\n",
      "20/24 [========================>.....] - ETA: 0s - loss: 1.6172 - accuracy: 0.2234\n",
      "Epoch 00058: val_loss did not improve from 1.60686\n",
      "24/24 [==============================] - 0s 4ms/step - loss: 1.6147 - accuracy: 0.2161 - val_loss: 1.6158 - val_accuracy: 0.1406\n",
      "Epoch 59/100\n",
      " 1/24 [>.............................] - ETA: 0s - loss: 1.6957 - accuracy: 0.2500\n",
      "Epoch 00059: val_loss did not improve from 1.60686\n",
      "24/24 [==============================] - 0s 2ms/step - loss: 1.6500 - accuracy: 0.2135 - val_loss: 1.6157 - val_accuracy: 0.1406\n"
     ]
    },
    {
     "name": "stdout",
     "output_type": "stream",
     "text": [
      "Epoch 60/100\n",
      "17/24 [====================>.........] - ETA: 0s - loss: 1.6359 - accuracy: 0.2188\n",
      "Epoch 00060: val_loss did not improve from 1.60686\n",
      "24/24 [==============================] - 0s 4ms/step - loss: 1.6245 - accuracy: 0.2161 - val_loss: 1.6157 - val_accuracy: 0.1406\n",
      "Epoch 61/100\n",
      " 1/24 [>.............................] - ETA: 0s - loss: 1.6042 - accuracy: 0.2500\n",
      "Epoch 00061: val_loss did not improve from 1.60686\n",
      "24/24 [==============================] - 0s 2ms/step - loss: 1.6062 - accuracy: 0.2122 - val_loss: 1.6158 - val_accuracy: 0.1406\n",
      "Epoch 62/100\n",
      " 1/24 [>.............................] - ETA: 0s - loss: 1.9954 - accuracy: 0.3438\n",
      "Epoch 00062: val_loss did not improve from 1.60686\n",
      "24/24 [==============================] - 0s 3ms/step - loss: 1.6487 - accuracy: 0.2122 - val_loss: 1.6160 - val_accuracy: 0.1406\n",
      "Epoch 63/100\n",
      " 1/24 [>.............................] - ETA: 0s - loss: 1.5860 - accuracy: 0.2500\n",
      "Epoch 00063: val_loss did not improve from 1.60686\n",
      "24/24 [==============================] - 0s 3ms/step - loss: 1.6182 - accuracy: 0.2161 - val_loss: 1.6159 - val_accuracy: 0.1406\n",
      "Epoch 64/100\n",
      " 1/24 [>.............................] - ETA: 0s - loss: 1.6208 - accuracy: 0.2188\n",
      "Epoch 00064: val_loss did not improve from 1.60686\n",
      "24/24 [==============================] - 0s 2ms/step - loss: 1.6183 - accuracy: 0.2161 - val_loss: 1.6159 - val_accuracy: 0.1406\n",
      "Epoch 65/100\n",
      " 1/24 [>.............................] - ETA: 0s - loss: 1.5938 - accuracy: 0.2812\n",
      "Epoch 00065: val_loss did not improve from 1.60686\n",
      "24/24 [==============================] - 0s 2ms/step - loss: 1.6287 - accuracy: 0.2148 - val_loss: 1.6160 - val_accuracy: 0.1406\n",
      "Epoch 66/100\n",
      " 1/24 [>.............................] - ETA: 0s - loss: 1.6087 - accuracy: 0.2188\n",
      "Epoch 00066: val_loss did not improve from 1.60686\n",
      "24/24 [==============================] - 0s 2ms/step - loss: 1.6147 - accuracy: 0.2201 - val_loss: 1.6161 - val_accuracy: 0.1406\n",
      "Epoch 67/100\n",
      " 1/24 [>.............................] - ETA: 0s - loss: 1.6961 - accuracy: 0.2500\n",
      "Epoch 00067: val_loss did not improve from 1.60686\n",
      "24/24 [==============================] - 0s 2ms/step - loss: 1.6203 - accuracy: 0.2161 - val_loss: 1.6161 - val_accuracy: 0.1406\n",
      "Epoch 68/100\n",
      " 1/24 [>.............................] - ETA: 0s - loss: 1.6112 - accuracy: 0.3438\n",
      "Epoch 00068: val_loss did not improve from 1.60686\n",
      "24/24 [==============================] - 0s 2ms/step - loss: 1.6138 - accuracy: 0.2148 - val_loss: 1.6161 - val_accuracy: 0.1406\n",
      "Epoch 69/100\n",
      " 1/24 [>.............................] - ETA: 0s - loss: 1.6184 - accuracy: 0.0625\n",
      "Epoch 00069: val_loss did not improve from 1.60686\n",
      "24/24 [==============================] - 0s 2ms/step - loss: 1.6183 - accuracy: 0.2109 - val_loss: 1.6160 - val_accuracy: 0.1406\n",
      "Epoch 70/100\n",
      " 1/24 [>.............................] - ETA: 0s - loss: 1.7470 - accuracy: 0.1250\n",
      "Epoch 00070: val_loss did not improve from 1.60686\n",
      "24/24 [==============================] - 0s 2ms/step - loss: 1.6183 - accuracy: 0.2135 - val_loss: 1.6160 - val_accuracy: 0.1406\n",
      "Epoch 71/100\n",
      " 1/24 [>.............................] - ETA: 0s - loss: 1.5913 - accuracy: 0.3125\n",
      "Epoch 00071: val_loss did not improve from 1.60686\n",
      "24/24 [==============================] - 0s 2ms/step - loss: 1.6169 - accuracy: 0.2148 - val_loss: 1.6162 - val_accuracy: 0.1406\n",
      "Epoch 72/100\n",
      " 1/24 [>.............................] - ETA: 0s - loss: 1.6028 - accuracy: 0.2500\n",
      "Epoch 00072: val_loss did not improve from 1.60686\n",
      "24/24 [==============================] - 0s 2ms/step - loss: 1.6210 - accuracy: 0.2148 - val_loss: 1.6165 - val_accuracy: 0.1406\n",
      "Epoch 73/100\n",
      " 1/24 [>.............................] - ETA: 0s - loss: 1.6518 - accuracy: 0.1562\n",
      "Epoch 00073: val_loss did not improve from 1.60686\n",
      "24/24 [==============================] - 0s 2ms/step - loss: 1.6217 - accuracy: 0.2122 - val_loss: 1.6162 - val_accuracy: 0.1406\n",
      "Epoch 74/100\n",
      " 1/24 [>.............................] - ETA: 0s - loss: 1.6119 - accuracy: 0.1875\n",
      "Epoch 00074: val_loss did not improve from 1.60686\n",
      "24/24 [==============================] - 0s 3ms/step - loss: 1.6215 - accuracy: 0.2148 - val_loss: 1.6164 - val_accuracy: 0.1406\n",
      "Epoch 75/100\n",
      " 1/24 [>.............................] - ETA: 0s - loss: 1.5964 - accuracy: 0.2812\n",
      "Epoch 00075: val_loss did not improve from 1.60686\n",
      "24/24 [==============================] - 0s 2ms/step - loss: 1.6289 - accuracy: 0.2188 - val_loss: 1.6164 - val_accuracy: 0.1406\n",
      "Epoch 76/100\n",
      " 1/24 [>.............................] - ETA: 0s - loss: 1.6010 - accuracy: 0.2812\n",
      "Epoch 00076: val_loss did not improve from 1.60686\n",
      "24/24 [==============================] - 0s 2ms/step - loss: 1.6175 - accuracy: 0.2161 - val_loss: 1.6164 - val_accuracy: 0.1406\n",
      "Epoch 77/100\n",
      " 1/24 [>.............................] - ETA: 0s - loss: 1.6056 - accuracy: 0.2188\n",
      "Epoch 00077: val_loss did not improve from 1.60686\n",
      "24/24 [==============================] - 0s 2ms/step - loss: 1.6184 - accuracy: 0.2148 - val_loss: 1.6166 - val_accuracy: 0.1406\n",
      "Epoch 78/100\n",
      " 1/24 [>.............................] - ETA: 0s - loss: 1.6042 - accuracy: 0.2500\n",
      "Epoch 00078: val_loss did not improve from 1.60686\n",
      "24/24 [==============================] - 0s 2ms/step - loss: 1.6222 - accuracy: 0.2109 - val_loss: 1.6163 - val_accuracy: 0.1406\n",
      "Epoch 79/100\n",
      " 1/24 [>.............................] - ETA: 0s - loss: 1.6080 - accuracy: 0.2500\n",
      "Epoch 00079: val_loss did not improve from 1.60686\n",
      "24/24 [==============================] - 0s 2ms/step - loss: 1.6168 - accuracy: 0.2135 - val_loss: 1.6165 - val_accuracy: 0.1406\n",
      "Epoch 80/100\n",
      " 1/24 [>.............................] - ETA: 0s - loss: 1.6470 - accuracy: 0.2500\n",
      "Epoch 00080: val_loss did not improve from 1.60686\n",
      "24/24 [==============================] - 0s 2ms/step - loss: 1.6154 - accuracy: 0.2122 - val_loss: 1.6164 - val_accuracy: 0.1406\n",
      "Epoch 81/100\n",
      " 1/24 [>.............................] - ETA: 0s - loss: 1.6145 - accuracy: 0.0938\n",
      "Epoch 00081: val_loss did not improve from 1.60686\n",
      "24/24 [==============================] - 0s 2ms/step - loss: 1.6247 - accuracy: 0.2122 - val_loss: 1.6164 - val_accuracy: 0.1406\n",
      "Epoch 82/100\n",
      " 1/24 [>.............................] - ETA: 0s - loss: 1.5986 - accuracy: 0.3125\n",
      "Epoch 00082: val_loss did not improve from 1.60686\n",
      "24/24 [==============================] - 0s 2ms/step - loss: 1.6140 - accuracy: 0.2161 - val_loss: 1.6166 - val_accuracy: 0.1406\n",
      "Epoch 83/100\n",
      " 1/24 [>.............................] - ETA: 0s - loss: 1.6075 - accuracy: 0.2500\n",
      "Epoch 00083: val_loss did not improve from 1.60686\n",
      "24/24 [==============================] - 0s 2ms/step - loss: 1.6201 - accuracy: 0.2122 - val_loss: 1.6163 - val_accuracy: 0.1406\n",
      "Epoch 84/100\n",
      " 1/24 [>.............................] - ETA: 0s - loss: 1.6089 - accuracy: 0.2188\n",
      "Epoch 00084: val_loss did not improve from 1.60686\n",
      "24/24 [==============================] - 0s 2ms/step - loss: 1.6248 - accuracy: 0.2109 - val_loss: 1.6164 - val_accuracy: 0.1406\n",
      "Epoch 85/100\n",
      " 1/24 [>.............................] - ETA: 0s - loss: 1.6161 - accuracy: 0.1562\n",
      "Epoch 00085: val_loss did not improve from 1.60686\n",
      "24/24 [==============================] - 0s 2ms/step - loss: 1.6293 - accuracy: 0.2148 - val_loss: 1.6165 - val_accuracy: 0.1406\n",
      "Epoch 86/100\n",
      " 1/24 [>.............................] - ETA: 0s - loss: 1.6107 - accuracy: 0.2188\n",
      "Epoch 00086: val_loss did not improve from 1.60686\n",
      "24/24 [==============================] - 0s 2ms/step - loss: 1.6171 - accuracy: 0.2201 - val_loss: 1.6165 - val_accuracy: 0.1406\n",
      "Epoch 87/100\n",
      " 1/24 [>.............................] - ETA: 0s - loss: 1.6092 - accuracy: 0.1875\n",
      "Epoch 00087: val_loss did not improve from 1.60686\n",
      "24/24 [==============================] - 0s 2ms/step - loss: 1.6323 - accuracy: 0.2161 - val_loss: 1.6167 - val_accuracy: 0.1406\n",
      "Epoch 88/100\n",
      " 1/24 [>.............................] - ETA: 0s - loss: 1.6042 - accuracy: 0.2188\n",
      "Epoch 00088: val_loss did not improve from 1.60686\n",
      "24/24 [==============================] - 0s 2ms/step - loss: 1.6082 - accuracy: 0.2148 - val_loss: 1.6165 - val_accuracy: 0.1406\n",
      "Epoch 89/100\n",
      " 1/24 [>.............................] - ETA: 0s - loss: 1.6042 - accuracy: 0.2500\n",
      "Epoch 00089: val_loss did not improve from 1.60686\n",
      "24/24 [==============================] - 0s 2ms/step - loss: 1.6097 - accuracy: 0.2135 - val_loss: 1.6165 - val_accuracy: 0.1406\n"
     ]
    },
    {
     "name": "stdout",
     "output_type": "stream",
     "text": [
      "Epoch 90/100\n",
      " 1/24 [>.............................] - ETA: 0s - loss: 1.6123 - accuracy: 0.1250\n",
      "Epoch 00090: val_loss did not improve from 1.60686\n",
      "24/24 [==============================] - 0s 2ms/step - loss: 1.6237 - accuracy: 0.2135 - val_loss: 1.6165 - val_accuracy: 0.1406\n",
      "Epoch 91/100\n",
      " 1/24 [>.............................] - ETA: 0s - loss: 1.6110 - accuracy: 0.2188\n",
      "Epoch 00091: val_loss did not improve from 1.60686\n",
      "24/24 [==============================] - 0s 2ms/step - loss: 1.6094 - accuracy: 0.2122 - val_loss: 1.6163 - val_accuracy: 0.1406\n",
      "Epoch 92/100\n",
      " 1/24 [>.............................] - ETA: 0s - loss: 1.6029 - accuracy: 0.2812\n",
      "Epoch 00092: val_loss did not improve from 1.60686\n",
      "24/24 [==============================] - 0s 3ms/step - loss: 1.6263 - accuracy: 0.2148 - val_loss: 1.6167 - val_accuracy: 0.1406\n",
      "Epoch 93/100\n",
      "24/24 [==============================] - ETA: 0s - loss: 1.6176 - accuracy: 0.2161\n",
      "Epoch 00093: val_loss did not improve from 1.60686\n",
      "24/24 [==============================] - 0s 4ms/step - loss: 1.6176 - accuracy: 0.2161 - val_loss: 1.6165 - val_accuracy: 0.1406\n",
      "Epoch 94/100\n",
      " 1/24 [>.............................] - ETA: 0s - loss: 1.6035 - accuracy: 0.2812\n",
      "Epoch 00094: val_loss did not improve from 1.60686\n",
      "24/24 [==============================] - 0s 3ms/step - loss: 1.6096 - accuracy: 0.2148 - val_loss: 1.6165 - val_accuracy: 0.1406\n",
      "Epoch 95/100\n",
      " 1/24 [>.............................] - ETA: 0s - loss: 1.6156 - accuracy: 0.1562\n",
      "Epoch 00095: val_loss did not improve from 1.60686\n",
      "24/24 [==============================] - 0s 2ms/step - loss: 1.6199 - accuracy: 0.2122 - val_loss: 1.6164 - val_accuracy: 0.1406\n",
      "Epoch 96/100\n",
      " 1/24 [>.............................] - ETA: 0s - loss: 1.6127 - accuracy: 0.2188\n",
      "Epoch 00096: val_loss did not improve from 1.60686\n",
      "24/24 [==============================] - 0s 2ms/step - loss: 1.6080 - accuracy: 0.2161 - val_loss: 1.6166 - val_accuracy: 0.1406\n",
      "Epoch 97/100\n",
      " 1/24 [>.............................] - ETA: 0s - loss: 1.6128 - accuracy: 0.1875\n",
      "Epoch 00097: val_loss did not improve from 1.60686\n",
      "24/24 [==============================] - 0s 2ms/step - loss: 1.6225 - accuracy: 0.2122 - val_loss: 1.6166 - val_accuracy: 0.1406\n",
      "Epoch 98/100\n",
      " 1/24 [>.............................] - ETA: 0s - loss: 1.6077 - accuracy: 0.2500\n",
      "Epoch 00098: val_loss did not improve from 1.60686\n",
      "24/24 [==============================] - 0s 2ms/step - loss: 1.6059 - accuracy: 0.2161 - val_loss: 1.6166 - val_accuracy: 0.1406\n",
      "Epoch 99/100\n",
      " 1/24 [>.............................] - ETA: 0s - loss: 1.6106 - accuracy: 0.2188\n",
      "Epoch 00099: val_loss did not improve from 1.60686\n",
      "24/24 [==============================] - 0s 2ms/step - loss: 1.6121 - accuracy: 0.2161 - val_loss: 1.6164 - val_accuracy: 0.1406\n",
      "Epoch 100/100\n",
      " 1/24 [>.............................] - ETA: 0s - loss: 1.6072 - accuracy: 0.1875\n",
      "Epoch 00100: val_loss did not improve from 1.60686\n",
      "24/24 [==============================] - 0s 2ms/step - loss: 1.6127 - accuracy: 0.2135 - val_loss: 1.6168 - val_accuracy: 0.1406\n"
     ]
    },
    {
     "data": {
      "text/plain": [
       "<keras.callbacks.History at 0x1ea5db65e80>"
      ]
     },
     "execution_count": 25,
     "metadata": {},
     "output_type": "execute_result"
    }
   ],
   "source": [
    "## Trianing my model\n",
    "from tensorflow.keras.callbacks import ModelCheckpoint\n",
    "\n",
    "num_epochs = 100\n",
    "num_batch_size = 32\n",
    "\n",
    "checkpointer = ModelCheckpoint(filepath='./saveModel/audio_classification2.hdf5', \n",
    "                               verbose=1, save_best_only=True)\n",
    "\n",
    "model.fit(X_train, y_train, batch_size=num_batch_size, epochs=num_epochs, validation_data=(X_test, y_test), callbacks=[checkpointer], verbose=1)\n"
   ]
  },
  {
   "cell_type": "code",
   "execution_count": 26,
   "id": "6d7a5674",
   "metadata": {},
   "outputs": [
    {
     "data": {
      "text/plain": [
       "0.140625"
      ]
     },
     "execution_count": 26,
     "metadata": {},
     "output_type": "execute_result"
    }
   ],
   "source": [
    "test_accuracy=model.evaluate(X_test,y_test,verbose=0)\n",
    "test_accuracy[1]"
   ]
  },
  {
   "cell_type": "code",
   "execution_count": 31,
   "id": "514920ef",
   "metadata": {},
   "outputs": [
    {
     "data": {
      "text/plain": [
       "0.640625"
      ]
     },
     "execution_count": 31,
     "metadata": {},
     "output_type": "execute_result"
    }
   ],
   "source": [
    "model_imported = tf.keras.models.load_model(\"savedModel/audio_classification2.hdf5\")\n",
    "\n",
    "test_accuracy=model_imported.evaluate(X_test,y_test,verbose=0)\n",
    "test_accuracy[1]"
   ]
  },
  {
   "cell_type": "code",
   "execution_count": 32,
   "id": "139d2e9b",
   "metadata": {},
   "outputs": [
    {
     "data": {
      "text/plain": [
       "0.9010416865348816"
      ]
     },
     "execution_count": 32,
     "metadata": {},
     "output_type": "execute_result"
    }
   ],
   "source": [
    "model_imported2 = tf.keras.models.load_model(\"savedModel/audio_classification.hdf5\")\n",
    "\n",
    "test_accuracy=model_imported2.evaluate(X_test,y_test,verbose=0)\n",
    "test_accuracy[1]"
   ]
  },
  {
   "cell_type": "code",
   "execution_count": 33,
   "id": "31ab682e",
   "metadata": {},
   "outputs": [],
   "source": [
    "accuracy = test_accuracy[1]"
   ]
  },
  {
   "cell_type": "code",
   "execution_count": 35,
   "id": "8232a4ad",
   "metadata": {},
   "outputs": [
    {
     "data": {
      "text/plain": [
       "90.10416865348816"
      ]
     },
     "execution_count": 35,
     "metadata": {},
     "output_type": "execute_result"
    }
   ],
   "source": [
    "# Accuracy in percentage\n",
    "accuracy * 100"
   ]
  },
  {
   "cell_type": "code",
   "execution_count": null,
   "id": "cfb99129",
   "metadata": {},
   "outputs": [],
   "source": []
  }
 ],
 "metadata": {
  "kernelspec": {
   "display_name": "Python 3",
   "language": "python",
   "name": "python3"
  },
  "language_info": {
   "codemirror_mode": {
    "name": "ipython",
    "version": 3
   },
   "file_extension": ".py",
   "mimetype": "text/x-python",
   "name": "python",
   "nbconvert_exporter": "python",
   "pygments_lexer": "ipython3",
   "version": "3.9.6"
  }
 },
 "nbformat": 4,
 "nbformat_minor": 5
}
